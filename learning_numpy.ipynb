{
 "cells": [
  {
   "cell_type": "code",
   "execution_count": 10,
   "metadata": {},
   "outputs": [],
   "source": [
    "import numpy as np\n",
    "from scipy import sparse"
   ]
  },
  {
   "cell_type": "code",
   "execution_count": 54,
   "metadata": {},
   "outputs": [
    {
     "data": {
      "text/plain": [
       "array([[0, 0, 3],\n",
       "       [1, 0, 2],\n",
       "       [2, 4, 5]])"
      ]
     },
     "execution_count": 54,
     "metadata": {},
     "output_type": "execute_result"
    }
   ],
   "source": [
    "# Create matrix\n",
    "matrix = np.array([[0,0,3], [1,0,2], [2,4,5]])\n",
    "matrix"
   ]
  },
  {
   "cell_type": "code",
   "execution_count": 55,
   "metadata": {},
   "outputs": [
    {
     "name": "stdout",
     "output_type": "stream",
     "text": [
      "  (0, 2)\t3\n",
      "  (1, 0)\t1\n",
      "  (1, 2)\t2\n",
      "  (2, 0)\t2\n",
      "  (2, 1)\t4\n",
      "  (2, 2)\t5\n"
     ]
    }
   ],
   "source": [
    "# CSR (Compressed sparse row)\n",
    "matrix_sparse = sparse.csr_matrix(matrix)\n",
    "print (matrix_sparse)\n",
    "#position -> value\n",
    "#(1, 0) -> \t1\n",
    "#(2, 0) -> \t2\n",
    "#(2, 1) -> \t4"
   ]
  },
  {
   "cell_type": "code",
   "execution_count": 56,
   "metadata": {},
   "outputs": [
    {
     "name": "stdout",
     "output_type": "stream",
     "text": [
      "[1 0 2]\n",
      "[0 0 4]\n",
      "5\n"
     ]
    }
   ],
   "source": [
    "# check element in matrix\n",
    "print (matrix[1])       # filter second row, no filter to column \n",
    "print (matrix[:,1])     # no filter to row, filter second column\n",
    "print (matrix[-1,-1]) # last element in row, last element in column"
   ]
  },
  {
   "cell_type": "code",
   "execution_count": 57,
   "metadata": {
    "scrolled": true
   },
   "outputs": [
    {
     "data": {
      "text/plain": [
       "(3, 3)"
      ]
     },
     "execution_count": 57,
     "metadata": {},
     "output_type": "execute_result"
    }
   ],
   "source": [
    "# show shape\n",
    "matrix.shape"
   ]
  },
  {
   "cell_type": "code",
   "execution_count": 58,
   "metadata": {},
   "outputs": [
    {
     "data": {
      "text/plain": [
       "9"
      ]
     },
     "execution_count": 58,
     "metadata": {},
     "output_type": "execute_result"
    }
   ],
   "source": [
    "# show size(num of elements)\n",
    "matrix.size"
   ]
  },
  {
   "cell_type": "code",
   "execution_count": 59,
   "metadata": {},
   "outputs": [
    {
     "data": {
      "text/plain": [
       "2"
      ]
     },
     "execution_count": 59,
     "metadata": {},
     "output_type": "execute_result"
    }
   ],
   "source": [
    "# show dimensions\n",
    "matrix.ndim"
   ]
  },
  {
   "cell_type": "code",
   "execution_count": 60,
   "metadata": {},
   "outputs": [
    {
     "data": {
      "text/plain": [
       "array([[100, 100, 103],\n",
       "       [101, 100, 102],\n",
       "       [102, 104, 105]])"
      ]
     },
     "execution_count": 60,
     "metadata": {},
     "output_type": "execute_result"
    }
   ],
   "source": [
    "# calculate all elements in matrix\n",
    "matrix +100"
   ]
  },
  {
   "cell_type": "code",
   "execution_count": 61,
   "metadata": {},
   "outputs": [
    {
     "name": "stdout",
     "output_type": "stream",
     "text": [
      "max in the matrix: 5\n",
      "[3 2 5]\n",
      "[2 4 5]\n"
     ]
    }
   ],
   "source": [
    "# find max, min \n",
    "print (\"max in the matrix: {}\".format(np.max(matrix)))\n",
    "print (np.max(matrix, axis=1)) # along each row\n",
    "print (np.max(matrix, axis=0)) # along each column"
   ]
  },
  {
   "cell_type": "code",
   "execution_count": 62,
   "metadata": {},
   "outputs": [
    {
     "name": "stdout",
     "output_type": "stream",
     "text": [
      "mean: 5\n",
      "std: 2.9876543209876543\n"
     ]
    }
   ],
   "source": [
    "# calculate mean, var, std\n",
    "print (\"mean: {}\".format(np.max(matrix)))\n",
    "print (\"std: {}\".format(np.var(matrix)))"
   ]
  },
  {
   "cell_type": "code",
   "execution_count": 65,
   "metadata": {},
   "outputs": [
    {
     "name": "stdout",
     "output_type": "stream",
     "text": [
      "[0 0 3 1 0 2 2 4 5]\n"
     ]
    }
   ],
   "source": [
    "# reshape\n",
    "# print (matrix.reshape(2,3))\n",
    "print (matrix.reshape(-1))"
   ]
  },
  {
   "cell_type": "code",
   "execution_count": 66,
   "metadata": {},
   "outputs": [
    {
     "name": "stdout",
     "output_type": "stream",
     "text": [
      "[[0 1 2]\n",
      " [0 0 4]\n",
      " [3 2 5]]\n"
     ]
    }
   ],
   "source": [
    "# matrix transformation\n",
    "print (matrix.T)"
   ]
  },
  {
   "cell_type": "code",
   "execution_count": 67,
   "metadata": {},
   "outputs": [
    {
     "name": "stdout",
     "output_type": "stream",
     "text": [
      "[0 0 3 1 0 2 2 4 5]\n",
      "[0 0 3 1 0 2 2 4 5]\n"
     ]
    }
   ],
   "source": [
    "# create flatten matrix\n",
    "print (matrix.reshape(-1))\n",
    "print (matrix.flatten())"
   ]
  },
  {
   "cell_type": "code",
   "execution_count": 68,
   "metadata": {},
   "outputs": [
    {
     "data": {
      "text/plain": [
       "12.0"
      ]
     },
     "execution_count": 68,
     "metadata": {},
     "output_type": "execute_result"
    }
   ],
   "source": [
    "# calculate determinant\n",
    "np.linalg.det(matrix)"
   ]
  },
  {
   "cell_type": "code",
   "execution_count": 78,
   "metadata": {},
   "outputs": [
    {
     "name": "stdout",
     "output_type": "stream",
     "text": [
      "[[0 0 3]\n",
      " [1 0 2]\n",
      " [2 4 5]]\n",
      "\n",
      "\n",
      "[0 0 5]\n",
      "[0 2]\n"
     ]
    }
   ],
   "source": [
    "# get diagonal (able to get with offset)\n",
    "print (matrix)\n",
    "print (\"\\n\")\n",
    "print (matrix.diagonal())\n",
    "print (matrix.diagonal(offset=1))"
   ]
  },
  {
   "cell_type": "code",
   "execution_count": 79,
   "metadata": {},
   "outputs": [
    {
     "name": "stdout",
     "output_type": "stream",
     "text": [
      "5\n",
      "5\n"
     ]
    }
   ],
   "source": [
    "# calculati diagonal elements sum\n",
    "print (matrix.trace())\n",
    "print (sum(matrix.diagonal()))"
   ]
  },
  {
   "cell_type": "code",
   "execution_count": 83,
   "metadata": {},
   "outputs": [
    {
     "name": "stdout",
     "output_type": "stream",
     "text": [
      "[ 7.1819708+0.j         -1.0909854+0.69325423j -1.0909854-0.69325423j]\n",
      "\n",
      "\n",
      "[[ 0.36808835+0.j         -0.85812752+0.j         -0.85812752-0.j        ]\n",
      " [ 0.29664396+0.j         -0.01176884+0.35604652j -0.01176884-0.35604652j]\n",
      " [ 0.88119994+0.j          0.3120682 -0.19830018j  0.3120682 +0.19830018j]]\n"
     ]
    }
   ],
   "source": [
    "# eigenvalues and eigenvectors\n",
    "eigenvalues, eigenvectors = np.linalg.eig(matrix)\n",
    "print (eigenvalues)\n",
    "print (\"\\n\")\n",
    "print (eigenvectors)"
   ]
  },
  {
   "cell_type": "code",
   "execution_count": 87,
   "metadata": {},
   "outputs": [
    {
     "name": "stdout",
     "output_type": "stream",
     "text": [
      "[[ 6 12 15]\n",
      " [ 4  8 13]\n",
      " [14 20 39]]\n",
      "\n",
      "\n",
      "[[ 6 12 15]\n",
      " [ 4  8 13]\n",
      " [14 20 39]]\n"
     ]
    }
   ],
   "source": [
    "# calculate innrer product\n",
    "print (np.dot(matrix, matrix))\n",
    "print (\"\\n\")\n",
    "print (matrix @ matrix)"
   ]
  },
  {
   "cell_type": "code",
   "execution_count": 88,
   "metadata": {},
   "outputs": [
    {
     "data": {
      "text/plain": [
       "array([[-0.66666667,  1.        ,  0.        ],\n",
       "       [-0.08333333, -0.5       ,  0.25      ],\n",
       "       [ 0.33333333,  0.        ,  0.        ]])"
      ]
     },
     "execution_count": 88,
     "metadata": {},
     "output_type": "execute_result"
    }
   ],
   "source": [
    "# calculate inverse matrix\n",
    "np.linalg.inv(matrix)"
   ]
  },
  {
   "cell_type": "code",
   "execution_count": 89,
   "metadata": {},
   "outputs": [
    {
     "data": {
      "text/plain": [
       "array([[1.00000000e+00, 0.00000000e+00, 0.00000000e+00],\n",
       "       [0.00000000e+00, 1.00000000e+00, 0.00000000e+00],\n",
       "       [5.55111512e-17, 0.00000000e+00, 1.00000000e+00]])"
      ]
     },
     "execution_count": 89,
     "metadata": {},
     "output_type": "execute_result"
    }
   ],
   "source": [
    "matrix @ np.linalg.inv(matrix)"
   ]
  },
  {
   "cell_type": "code",
   "execution_count": null,
   "metadata": {
    "collapsed": true
   },
   "outputs": [],
   "source": []
  }
 ],
 "metadata": {
  "kernelspec": {
   "display_name": "Python 3",
   "language": "python",
   "name": "python3"
  },
  "language_info": {
   "codemirror_mode": {
    "name": "ipython",
    "version": 3
   },
   "file_extension": ".py",
   "mimetype": "text/x-python",
   "name": "python",
   "nbconvert_exporter": "python",
   "pygments_lexer": "ipython3",
   "version": "3.6.3"
  }
 },
 "nbformat": 4,
 "nbformat_minor": 2
}
