{
 "cells": [
  {
   "cell_type": "code",
   "execution_count": 17,
   "metadata": {
    "collapsed": true
   },
   "outputs": [],
   "source": [
    "import numpy as np\n",
    "import pandas as pd\n",
    "from sklearn.model_selection import train_test_split\n",
    "from sklearn.preprocessing import StandardScaler\n",
    "from sklearn.ensemble import RandomForestRegressor\n",
    "from sklearn.ensemble import RandomForestClassifier\n",
    "import matplotlib.pyplot as plt\n",
    "from matplotlib.colors import ListedColormap"
   ]
  },
  {
   "cell_type": "code",
   "execution_count": 3,
   "metadata": {
    "collapsed": true
   },
   "outputs": [],
   "source": [
    "df_data = pd.read_csv('./Data/train_sample.csv')"
   ]
  },
  {
   "cell_type": "code",
   "execution_count": 5,
   "metadata": {
    "scrolled": true
   },
   "outputs": [
    {
     "data": {
      "text/html": [
       "<div>\n",
       "<style scoped>\n",
       "    .dataframe tbody tr th:only-of-type {\n",
       "        vertical-align: middle;\n",
       "    }\n",
       "\n",
       "    .dataframe tbody tr th {\n",
       "        vertical-align: top;\n",
       "    }\n",
       "\n",
       "    .dataframe thead th {\n",
       "        text-align: right;\n",
       "    }\n",
       "</style>\n",
       "<table border=\"1\" class=\"dataframe\">\n",
       "  <thead>\n",
       "    <tr style=\"text-align: right;\">\n",
       "      <th></th>\n",
       "      <th>datetime</th>\n",
       "      <th>Frequency</th>\n",
       "      <th>FrequencyOutput</th>\n",
       "      <th>CurrentOutput</th>\n",
       "      <th>TempPV</th>\n",
       "      <th>TempSV</th>\n",
       "      <th>ai0</th>\n",
       "      <th>ai1</th>\n",
       "      <th>ai2</th>\n",
       "      <th>ai3</th>\n",
       "      <th>Scored</th>\n",
       "    </tr>\n",
       "  </thead>\n",
       "  <tbody>\n",
       "    <tr>\n",
       "      <th>0</th>\n",
       "      <td>2019-02-14T13:57:06Z</td>\n",
       "      <td>8.0</td>\n",
       "      <td>8.0</td>\n",
       "      <td>0.03</td>\n",
       "      <td>33.5</td>\n",
       "      <td>51.6</td>\n",
       "      <td>0.031656</td>\n",
       "      <td>NaN</td>\n",
       "      <td>0.030848</td>\n",
       "      <td>0.016809</td>\n",
       "      <td>-1</td>\n",
       "    </tr>\n",
       "    <tr>\n",
       "      <th>1</th>\n",
       "      <td>2019-02-26T13:01:40Z</td>\n",
       "      <td>10.6</td>\n",
       "      <td>10.6</td>\n",
       "      <td>0.03</td>\n",
       "      <td>33.0</td>\n",
       "      <td>51.7</td>\n",
       "      <td>0.092703</td>\n",
       "      <td>0.135483</td>\n",
       "      <td>0.078958</td>\n",
       "      <td>0.003524</td>\n",
       "      <td>-1</td>\n",
       "    </tr>\n",
       "    <tr>\n",
       "      <th>2</th>\n",
       "      <td>2019-02-17T12:57:01Z</td>\n",
       "      <td>5.6</td>\n",
       "      <td>5.6</td>\n",
       "      <td>0.04</td>\n",
       "      <td>29.7</td>\n",
       "      <td>51.6</td>\n",
       "      <td>0.067807</td>\n",
       "      <td>0.070302</td>\n",
       "      <td>0.058287</td>\n",
       "      <td>0.003365</td>\n",
       "      <td>-1</td>\n",
       "    </tr>\n",
       "    <tr>\n",
       "      <th>3</th>\n",
       "      <td>2019-02-28T16:48:15Z</td>\n",
       "      <td>6.9</td>\n",
       "      <td>6.9</td>\n",
       "      <td>0.04</td>\n",
       "      <td>31.9</td>\n",
       "      <td>51.7</td>\n",
       "      <td>0.070707</td>\n",
       "      <td>0.059026</td>\n",
       "      <td>0.037287</td>\n",
       "      <td>0.021144</td>\n",
       "      <td>-1</td>\n",
       "    </tr>\n",
       "    <tr>\n",
       "      <th>4</th>\n",
       "      <td>2019-02-21T10:11:34Z</td>\n",
       "      <td>2.2</td>\n",
       "      <td>2.2</td>\n",
       "      <td>0.03</td>\n",
       "      <td>NaN</td>\n",
       "      <td>51.6</td>\n",
       "      <td>0.004294</td>\n",
       "      <td>0.024141</td>\n",
       "      <td>0.007992</td>\n",
       "      <td>0.011165</td>\n",
       "      <td>1</td>\n",
       "    </tr>\n",
       "  </tbody>\n",
       "</table>\n",
       "</div>"
      ],
      "text/plain": [
       "               datetime  Frequency  FrequencyOutput  CurrentOutput  TempPV  \\\n",
       "0  2019-02-14T13:57:06Z        8.0              8.0           0.03    33.5   \n",
       "1  2019-02-26T13:01:40Z       10.6             10.6           0.03    33.0   \n",
       "2  2019-02-17T12:57:01Z        5.6              5.6           0.04    29.7   \n",
       "3  2019-02-28T16:48:15Z        6.9              6.9           0.04    31.9   \n",
       "4  2019-02-21T10:11:34Z        2.2              2.2           0.03     NaN   \n",
       "\n",
       "   TempSV       ai0       ai1       ai2       ai3  Scored  \n",
       "0    51.6  0.031656       NaN  0.030848  0.016809      -1  \n",
       "1    51.7  0.092703  0.135483  0.078958  0.003524      -1  \n",
       "2    51.6  0.067807  0.070302  0.058287  0.003365      -1  \n",
       "3    51.7  0.070707  0.059026  0.037287  0.021144      -1  \n",
       "4    51.6  0.004294  0.024141  0.007992  0.011165       1  "
      ]
     },
     "execution_count": 5,
     "metadata": {},
     "output_type": "execute_result"
    }
   ],
   "source": [
    "df_data.head()"
   ]
  },
  {
   "cell_type": "code",
   "execution_count": 7,
   "metadata": {},
   "outputs": [
    {
     "data": {
      "text/plain": [
       "datetime           False\n",
       "Frequency          False\n",
       "FrequencyOutput    False\n",
       "CurrentOutput      False\n",
       "TempPV             False\n",
       "TempSV             False\n",
       "ai0                False\n",
       "ai1                False\n",
       "ai2                False\n",
       "ai3                False\n",
       "Scored             False\n",
       "dtype: bool"
      ]
     },
     "execution_count": 7,
     "metadata": {},
     "output_type": "execute_result"
    }
   ],
   "source": [
    "df_data = df_data.dropna()\n",
    "df_data.isna().any()"
   ]
  },
  {
   "cell_type": "code",
   "execution_count": 9,
   "metadata": {},
   "outputs": [],
   "source": [
    "df_data[\"datetime\"] = pd.to_datetime(df_data[\"datetime\"])"
   ]
  },
  {
   "cell_type": "code",
   "execution_count": 12,
   "metadata": {},
   "outputs": [
    {
     "data": {
      "text/plain": [
       "datetime           datetime64[ns, UTC]\n",
       "Frequency                      float64\n",
       "FrequencyOutput                float64\n",
       "CurrentOutput                  float64\n",
       "TempPV                         float64\n",
       "TempSV                         float64\n",
       "ai0                            float64\n",
       "ai1                            float64\n",
       "ai2                            float64\n",
       "ai3                            float64\n",
       "Scored                           int64\n",
       "dtype: object"
      ]
     },
     "execution_count": 12,
     "metadata": {},
     "output_type": "execute_result"
    }
   ],
   "source": [
    "df_data.dtypes"
   ]
  },
  {
   "cell_type": "code",
   "execution_count": 15,
   "metadata": {},
   "outputs": [],
   "source": [
    "df_data_x = df_data[[\"Frequency\", \"FrequencyOutput\", \"TempPV\", \"TempSV\"]]"
   ]
  },
  {
   "cell_type": "code",
   "execution_count": 16,
   "metadata": {
    "collapsed": true
   },
   "outputs": [],
   "source": [
    "df_data_y = df_data[[\"ai1\"]]"
   ]
  },
  {
   "cell_type": "code",
   "execution_count": 18,
   "metadata": {},
   "outputs": [
    {
     "name": "stderr",
     "output_type": "stream",
     "text": [
      "/Users/andyaoao/anaconda3/lib/python3.6/site-packages/ipykernel_launcher.py:19: DataConversionWarning: A column-vector y was passed when a 1d array was expected. Please change the shape of y to (n_samples,), for example using ravel().\n"
     ]
    }
   ],
   "source": [
    "X = df_data_x.values\n",
    "y = df_data_y.values\n",
    "\n",
    "# データ分割\n",
    "X_train, X_test, y_train, y_test = train_test_split(X, y, test_size = 0.2, random_state = 0)\n",
    "\n",
    "# Random Forestには、feature scalingを実施する必要がある\n",
    "sc = StandardScaler()\n",
    "X_train = sc.fit_transform(X_train)\n",
    "X_test = sc.transform(X_test)\n",
    "\n",
    "r_forest = RandomForestRegressor(\n",
    "            n_estimators=10,\n",
    "            criterion='mse',\n",
    "            random_state=1,\n",
    "            n_jobs=-1\n",
    ")\n",
    "\n",
    "r_forest.fit(X_train, y_train)\n",
    "y_train_pred = r_forest.predict(X_train)\n",
    "y_test_pred = r_forest.predict(X_test)"
   ]
  },
  {
   "cell_type": "code",
   "execution_count": 22,
   "metadata": {},
   "outputs": [],
   "source": [
    "# check residue (mse)\n",
    "train_resid = y_train - y_train_pred\n",
    "RFR_mse_train = np.array([r ** 2 for r in train_resid]).mean()\n",
    "test_resid = y_test - y_test_pred\n",
    "RFR_mse_test = np.array([r ** 2 for r in test_resid]).mean()"
   ]
  },
  {
   "cell_type": "code",
   "execution_count": 37,
   "metadata": {},
   "outputs": [
    {
     "data": {
      "image/png": "[encoded data removed]",
      "text/plain": [
       "<Figure size 432x288 with 1 Axes>"
      ]
     },
     "metadata": {},
     "output_type": "display_data"
    }
   ],
   "source": [
    "plt.plot(y_test)\n",
    "plt.plot(y_test_pred)\n",
    "plt.show()"
   ]
  },
  {
   "cell_type": "code",
   "execution_count": null,
   "metadata": {
    "collapsed": true
   },
   "outputs": [],
   "source": []
  }
 ],
 "metadata": {
  "kernelspec": {
   "display_name": "Python 3",
   "language": "python",
   "name": "python3"
  },
  "language_info": {
   "codemirror_mode": {
    "name": "ipython",
    "version": 3
   },
   "file_extension": ".py",
   "mimetype": "text/x-python",
   "name": "python",
   "nbconvert_exporter": "python",
   "pygments_lexer": "ipython3",
   "version": "3.6.9"
  }
 },
 "nbformat": 4,
 "nbformat_minor": 2
}
