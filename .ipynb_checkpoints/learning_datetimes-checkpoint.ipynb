{
 "cells": [
  {
   "cell_type": "code",
   "execution_count": 31,
   "metadata": {
    "collapsed": true
   },
   "outputs": [],
   "source": [
    "import numpy as np\n",
    "import pandas as pd\n",
    "import datetime"
   ]
  },
  {
   "cell_type": "code",
   "execution_count": 4,
   "metadata": {},
   "outputs": [],
   "source": [
    "df_data = pd.read_csv(\"./Data/train_sample.csv\", parse_dates=[\"datetime\"])"
   ]
  },
  {
   "cell_type": "code",
   "execution_count": 15,
   "metadata": {},
   "outputs": [
    {
     "data": {
      "text/plain": [
       "datetime           datetime64[ns, UTC]\n",
       "Frequency                      float64\n",
       "FrequencyOutput                float64\n",
       "CurrentOutput                  float64\n",
       "TempPV                         float64\n",
       "TempSV                         float64\n",
       "ai0                            float64\n",
       "ai1                            float64\n",
       "ai2                            float64\n",
       "ai3                            float64\n",
       "Scored                           int64\n",
       "date                            object\n",
       "time                            object\n",
       "hour                             int64\n",
       "dtype: object"
      ]
     },
     "execution_count": 15,
     "metadata": {},
     "output_type": "execute_result"
    }
   ],
   "source": [
    "df_data.dtypes"
   ]
  },
  {
   "cell_type": "markdown",
   "metadata": {},
   "source": [
    "## deomposite datetime"
   ]
  },
  {
   "cell_type": "code",
   "execution_count": 36,
   "metadata": {
    "collapsed": true
   },
   "outputs": [],
   "source": [
    "df_data[\"date\"] = df_data[\"datetime\"].dt.date\n",
    "df_data[\"year\"] = df_data[\"datetime\"].dt.year\n",
    "df_data[\"month\"] = df_data[\"datetime\"].dt.month\n",
    "df_data[\"day\"] = df_data[\"datetime\"].dt.day\n",
    "df_data[\"time\"] = df_data[\"datetime\"].dt.time\n",
    "df_data[\"hour\"] = df_data[\"datetime\"].dt.hour"
   ]
  },
  {
   "cell_type": "markdown",
   "metadata": {},
   "source": [
    "## create datetime from each element"
   ]
  },
  {
   "cell_type": "code",
   "execution_count": 37,
   "metadata": {},
   "outputs": [],
   "source": [
    "df_data[\"datetime_self\"] = pd.to_datetime(df_data[[\"year\",\"month\", \"day\", \"hour\"]])"
   ]
  },
  {
   "cell_type": "code",
   "execution_count": 64,
   "metadata": {},
   "outputs": [
    {
     "data": {
      "text/plain": [
       "0   2019-02-14 13:00:00\n",
       "1   2019-02-26 13:00:00\n",
       "2   2019-02-17 12:00:00\n",
       "3   2019-02-28 16:00:00\n",
       "4   2019-02-21 10:00:00\n",
       "Name: datetime_self, dtype: datetime64[ns]"
      ]
     },
     "execution_count": 64,
     "metadata": {},
     "output_type": "execute_result"
    }
   ],
   "source": [
    "df_data[\"datetime_self\"].head()"
   ]
  },
  {
   "cell_type": "markdown",
   "metadata": {},
   "source": [
    "## daterange"
   ]
  },
  {
   "cell_type": "code",
   "execution_count": 40,
   "metadata": {
    "collapsed": true
   },
   "outputs": [],
   "source": [
    "df_daterange = pd.DataFrame()"
   ]
  },
  {
   "cell_type": "code",
   "execution_count": 65,
   "metadata": {},
   "outputs": [],
   "source": [
    "# create 31 periods from 2019-03-01 0:0:0 \n",
    "df_daterange[\"date\"] = pd.date_range(\"2019-03-01\", periods=31, freq=\"h\")"
   ]
  },
  {
   "cell_type": "code",
   "execution_count": 66,
   "metadata": {},
   "outputs": [],
   "source": [
    "# define a constant\n",
    "df_daterange[\"price\"] = 30 "
   ]
  },
  {
   "cell_type": "code",
   "execution_count": 67,
   "metadata": {},
   "outputs": [
    {
     "data": {
      "text/html": [
       "<div>\n",
       "<style scoped>\n",
       "    .dataframe tbody tr th:only-of-type {\n",
       "        vertical-align: middle;\n",
       "    }\n",
       "\n",
       "    .dataframe tbody tr th {\n",
       "        vertical-align: top;\n",
       "    }\n",
       "\n",
       "    .dataframe thead th {\n",
       "        text-align: right;\n",
       "    }\n",
       "</style>\n",
       "<table border=\"1\" class=\"dataframe\">\n",
       "  <thead>\n",
       "    <tr style=\"text-align: right;\">\n",
       "      <th></th>\n",
       "      <th>date</th>\n",
       "      <th>price</th>\n",
       "    </tr>\n",
       "  </thead>\n",
       "  <tbody>\n",
       "    <tr>\n",
       "      <th>0</th>\n",
       "      <td>2019-03-01 00:00:00</td>\n",
       "      <td>30</td>\n",
       "    </tr>\n",
       "    <tr>\n",
       "      <th>1</th>\n",
       "      <td>2019-03-01 01:00:00</td>\n",
       "      <td>30</td>\n",
       "    </tr>\n",
       "    <tr>\n",
       "      <th>2</th>\n",
       "      <td>2019-03-01 02:00:00</td>\n",
       "      <td>30</td>\n",
       "    </tr>\n",
       "    <tr>\n",
       "      <th>3</th>\n",
       "      <td>2019-03-01 03:00:00</td>\n",
       "      <td>30</td>\n",
       "    </tr>\n",
       "    <tr>\n",
       "      <th>4</th>\n",
       "      <td>2019-03-01 04:00:00</td>\n",
       "      <td>30</td>\n",
       "    </tr>\n",
       "  </tbody>\n",
       "</table>\n",
       "</div>"
      ],
      "text/plain": [
       "                 date  price\n",
       "0 2019-03-01 00:00:00     30\n",
       "1 2019-03-01 01:00:00     30\n",
       "2 2019-03-01 02:00:00     30\n",
       "3 2019-03-01 03:00:00     30\n",
       "4 2019-03-01 04:00:00     30"
      ]
     },
     "execution_count": 67,
     "metadata": {},
     "output_type": "execute_result"
    }
   ],
   "source": [
    "df_daterange.head()"
   ]
  },
  {
   "cell_type": "markdown",
   "metadata": {},
   "source": [
    "## timedelta"
   ]
  },
  {
   "cell_type": "code",
   "execution_count": 74,
   "metadata": {
    "collapsed": true
   },
   "outputs": [],
   "source": [
    "# previous hour and previous day\n",
    "df_daterange[\"previous_hour\"] = df_daterange[\"date\"] - datetime.timedelta(hours=1)\n",
    "df_daterange[\"previous_day\"] = df_daterange[\"date\"] - datetime.timedelta(days=1)"
   ]
  },
  {
   "cell_type": "code",
   "execution_count": 81,
   "metadata": {},
   "outputs": [
    {
     "data": {
      "text/html": [
       "<div>\n",
       "<style scoped>\n",
       "    .dataframe tbody tr th:only-of-type {\n",
       "        vertical-align: middle;\n",
       "    }\n",
       "\n",
       "    .dataframe tbody tr th {\n",
       "        vertical-align: top;\n",
       "    }\n",
       "\n",
       "    .dataframe thead th {\n",
       "        text-align: right;\n",
       "    }\n",
       "</style>\n",
       "<table border=\"1\" class=\"dataframe\">\n",
       "  <thead>\n",
       "    <tr style=\"text-align: right;\">\n",
       "      <th></th>\n",
       "      <th>date</th>\n",
       "      <th>price</th>\n",
       "      <th>previous_hour</th>\n",
       "      <th>previous_day</th>\n",
       "    </tr>\n",
       "  </thead>\n",
       "  <tbody>\n",
       "    <tr>\n",
       "      <th>0</th>\n",
       "      <td>2019-03-01 00:00:00</td>\n",
       "      <td>30</td>\n",
       "      <td>2019-02-28 23:00:00</td>\n",
       "      <td>2019-02-28 00:00:00</td>\n",
       "    </tr>\n",
       "    <tr>\n",
       "      <th>1</th>\n",
       "      <td>2019-03-01 01:00:00</td>\n",
       "      <td>30</td>\n",
       "      <td>2019-03-01 00:00:00</td>\n",
       "      <td>2019-02-28 01:00:00</td>\n",
       "    </tr>\n",
       "    <tr>\n",
       "      <th>2</th>\n",
       "      <td>2019-03-01 02:00:00</td>\n",
       "      <td>30</td>\n",
       "      <td>2019-03-01 01:00:00</td>\n",
       "      <td>2019-02-28 02:00:00</td>\n",
       "    </tr>\n",
       "    <tr>\n",
       "      <th>3</th>\n",
       "      <td>2019-03-01 03:00:00</td>\n",
       "      <td>30</td>\n",
       "      <td>2019-03-01 02:00:00</td>\n",
       "      <td>2019-02-28 03:00:00</td>\n",
       "    </tr>\n",
       "    <tr>\n",
       "      <th>4</th>\n",
       "      <td>2019-03-01 04:00:00</td>\n",
       "      <td>30</td>\n",
       "      <td>2019-03-01 03:00:00</td>\n",
       "      <td>2019-02-28 04:00:00</td>\n",
       "    </tr>\n",
       "  </tbody>\n",
       "</table>\n",
       "</div>"
      ],
      "text/plain": [
       "                 date  price       previous_hour        previous_day\n",
       "0 2019-03-01 00:00:00     30 2019-02-28 23:00:00 2019-02-28 00:00:00\n",
       "1 2019-03-01 01:00:00     30 2019-03-01 00:00:00 2019-02-28 01:00:00\n",
       "2 2019-03-01 02:00:00     30 2019-03-01 01:00:00 2019-02-28 02:00:00\n",
       "3 2019-03-01 03:00:00     30 2019-03-01 02:00:00 2019-02-28 03:00:00\n",
       "4 2019-03-01 04:00:00     30 2019-03-01 03:00:00 2019-02-28 04:00:00"
      ]
     },
     "execution_count": 81,
     "metadata": {},
     "output_type": "execute_result"
    }
   ],
   "source": [
    "df_daterange.head()"
   ]
  },
  {
   "cell_type": "markdown",
   "metadata": {},
   "source": [
    "## string"
   ]
  },
  {
   "cell_type": "code",
   "execution_count": 94,
   "metadata": {
    "collapsed": true
   },
   "outputs": [],
   "source": [
    "df_daterange[\"date_string\"] = df_daterange[\"date\"].dt.strftime('%Y-%m-%d')\n",
    "df_daterange[\"time_string\"] = df_daterange[\"date\"].dt.strftime('%H:%M:%S')"
   ]
  },
  {
   "cell_type": "code",
   "execution_count": 95,
   "metadata": {},
   "outputs": [
    {
     "data": {
      "text/plain": [
       "date             datetime64[ns]\n",
       "price                     int64\n",
       "previous_hour    datetime64[ns]\n",
       "previous_day     datetime64[ns]\n",
       "date_string              object\n",
       "time_string              object\n",
       "dtype: object"
      ]
     },
     "execution_count": 95,
     "metadata": {},
     "output_type": "execute_result"
    }
   ],
   "source": [
    "df_daterange.dtypes"
   ]
  },
  {
   "cell_type": "code",
   "execution_count": 96,
   "metadata": {},
   "outputs": [
    {
     "data": {
      "text/html": [
       "<div>\n",
       "<style scoped>\n",
       "    .dataframe tbody tr th:only-of-type {\n",
       "        vertical-align: middle;\n",
       "    }\n",
       "\n",
       "    .dataframe tbody tr th {\n",
       "        vertical-align: top;\n",
       "    }\n",
       "\n",
       "    .dataframe thead th {\n",
       "        text-align: right;\n",
       "    }\n",
       "</style>\n",
       "<table border=\"1\" class=\"dataframe\">\n",
       "  <thead>\n",
       "    <tr style=\"text-align: right;\">\n",
       "      <th></th>\n",
       "      <th>date</th>\n",
       "      <th>price</th>\n",
       "      <th>previous_hour</th>\n",
       "      <th>previous_day</th>\n",
       "      <th>date_string</th>\n",
       "      <th>time_string</th>\n",
       "    </tr>\n",
       "  </thead>\n",
       "  <tbody>\n",
       "    <tr>\n",
       "      <th>0</th>\n",
       "      <td>2019-03-01 00:00:00</td>\n",
       "      <td>30</td>\n",
       "      <td>2019-02-28 23:00:00</td>\n",
       "      <td>2019-02-28 00:00:00</td>\n",
       "      <td>2019-03-01</td>\n",
       "      <td>00:00:00</td>\n",
       "    </tr>\n",
       "    <tr>\n",
       "      <th>1</th>\n",
       "      <td>2019-03-01 01:00:00</td>\n",
       "      <td>30</td>\n",
       "      <td>2019-03-01 00:00:00</td>\n",
       "      <td>2019-02-28 01:00:00</td>\n",
       "      <td>2019-03-01</td>\n",
       "      <td>01:00:00</td>\n",
       "    </tr>\n",
       "    <tr>\n",
       "      <th>2</th>\n",
       "      <td>2019-03-01 02:00:00</td>\n",
       "      <td>30</td>\n",
       "      <td>2019-03-01 01:00:00</td>\n",
       "      <td>2019-02-28 02:00:00</td>\n",
       "      <td>2019-03-01</td>\n",
       "      <td>02:00:00</td>\n",
       "    </tr>\n",
       "    <tr>\n",
       "      <th>3</th>\n",
       "      <td>2019-03-01 03:00:00</td>\n",
       "      <td>30</td>\n",
       "      <td>2019-03-01 02:00:00</td>\n",
       "      <td>2019-02-28 03:00:00</td>\n",
       "      <td>2019-03-01</td>\n",
       "      <td>03:00:00</td>\n",
       "    </tr>\n",
       "    <tr>\n",
       "      <th>4</th>\n",
       "      <td>2019-03-01 04:00:00</td>\n",
       "      <td>30</td>\n",
       "      <td>2019-03-01 03:00:00</td>\n",
       "      <td>2019-02-28 04:00:00</td>\n",
       "      <td>2019-03-01</td>\n",
       "      <td>04:00:00</td>\n",
       "    </tr>\n",
       "  </tbody>\n",
       "</table>\n",
       "</div>"
      ],
      "text/plain": [
       "                 date  price       previous_hour        previous_day  \\\n",
       "0 2019-03-01 00:00:00     30 2019-02-28 23:00:00 2019-02-28 00:00:00   \n",
       "1 2019-03-01 01:00:00     30 2019-03-01 00:00:00 2019-02-28 01:00:00   \n",
       "2 2019-03-01 02:00:00     30 2019-03-01 01:00:00 2019-02-28 02:00:00   \n",
       "3 2019-03-01 03:00:00     30 2019-03-01 02:00:00 2019-02-28 03:00:00   \n",
       "4 2019-03-01 04:00:00     30 2019-03-01 03:00:00 2019-02-28 04:00:00   \n",
       "\n",
       "  date_string time_string  \n",
       "0  2019-03-01    00:00:00  \n",
       "1  2019-03-01    01:00:00  \n",
       "2  2019-03-01    02:00:00  \n",
       "3  2019-03-01    03:00:00  \n",
       "4  2019-03-01    04:00:00  "
      ]
     },
     "execution_count": 96,
     "metadata": {},
     "output_type": "execute_result"
    }
   ],
   "source": [
    "df_daterange.head()"
   ]
  },
  {
   "cell_type": "code",
   "execution_count": null,
   "metadata": {
    "collapsed": true
   },
   "outputs": [],
   "source": []
  }
 ],
 "metadata": {
  "kernelspec": {
   "display_name": "Python 3",
   "language": "python",
   "name": "python3"
  },
  "language_info": {
   "codemirror_mode": {
    "name": "ipython",
    "version": 3
   },
   "file_extension": ".py",
   "mimetype": "text/x-python",
   "name": "python",
   "nbconvert_exporter": "python",
   "pygments_lexer": "ipython3",
   "version": "3.6.9"
  },
  "toc": {
   "base_numbering": 1,
   "nav_menu": {},
   "number_sections": true,
   "sideBar": true,
   "skip_h1_title": false,
   "title_cell": "Table of Contents",
   "title_sidebar": "Contents",
   "toc_cell": false,
   "toc_position": {},
   "toc_section_display": true,
   "toc_window_display": true
  }
 },
 "nbformat": 4,
 "nbformat_minor": 2
}
